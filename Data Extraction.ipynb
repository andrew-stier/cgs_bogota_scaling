{
 "cells": [
  {
   "cell_type": "code",
   "execution_count": 164,
   "id": "b38c0495",
   "metadata": {},
   "outputs": [],
   "source": [
    "import pytesseract\n",
    "from pdf2image import convert_from_path\n",
    "import re\n",
    "import numpy\n",
    "import pandas\n",
    "from functools import reduce"
   ]
  },
  {
   "cell_type": "code",
   "execution_count": 190,
   "id": "6f8efd99",
   "metadata": {},
   "outputs": [],
   "source": [
    "mass_pattern = re.compile(r'\\d{1,3}(?:[, \\d]*\\d)?(?:\\.\\d+)?', re.UNICODE)\n",
    "species_pattern = re.compile(r'([A-Z][a-z]+(?:\\s[a-z]+)?)', re.UNICODE)"
   ]
  },
  {
   "cell_type": "code",
   "execution_count": null,
   "id": "f9dec40c",
   "metadata": {},
   "outputs": [],
   "source": [
    "pages = convert_from_path('/home/andrewstier/Downloads/The Company of Biologists.pdf', first_page=1, last_page=35)\n",
    "data = []\n",
    "# fix the species name going to a second line\n",
    "for page in pages:\n",
    "    extracted_text = pytesseract.image_to_string(page)\n",
    "    try:\n",
    "        species_candidates = [x.group(0) for x in list(filter(None,[re.match(species_pattern,line) for line in  extracted_text.split('\\n')]))]        \n",
    "        keep_species = numpy.array([len(species_candidates[i].split(' '))==2 or ((i>1) and ((len(species_candidates[i-1].split(' '))==2) and (len(species_candidates[i+1].split(' '))==2)))  for i in range(len(species_candidates)-1)])\n",
    "        keep_end = numpy.argwhere(numpy.diff(numpy.argwhere(keep_species).flatten())>1)\n",
    "        keep_end = min(len(species_candidates),keep_end.flatten()[0]+2) if len(keep_end)>0 else len(species_candidates)\n",
    "        species = species_candidates[numpy.argwhere(keep_species).flatten()[0]:keep_end]\n",
    "\n",
    "        mass_candidates = [x.group(0) for x in list(filter(None,[re.match(mass_pattern,line) for line in  extracted_text.split('\\n')]))]\n",
    "        keep_mass = numpy.array([len(x.split('.'))>1 for x in mass_candidates])\n",
    "        mass = mass_candidates[numpy.argwhere(keep_mass).flatten()[0]:]\n",
    "        mass = mass[:len(species)]\n",
    "\n",
    "        metabolism_candidates = [x.group(0) for x in list(filter(None,[re.match(mass_pattern,line) for line in  extracted_text.split('\\n')]))]\n",
    "        metabolism = list(filter(lambda x: len(x.split(' '))==1 and len(x.split('.'))==2 and not x.__contains__(','),metabolism_candidates))\n",
    "        metabolism = metabolism[-len(mass):]\n",
    "        data.append([species,mass,metabolism])\n",
    "    except:\n",
    "        pass\n",
    "\n",
    "data[-2] = [data[-2][0][:-1],data[-2][1][:-1],data[-2][2]]\n",
    "manual_data = [x.split('\\n') for x in [\"Dobsonia minor 87.00 0.62\\nEonycteris spelaea 52.00 0.27\\nEptesicus fuscus 16.90 0.11\",\n",
    "\"Priodontes maximus 45 190.00 17.05\\nTamandua mexicana 4210.00 4.79\\nTamandua tetradactyla 3500.00 4.99\\nTolypeutes matacus 1160.00 1.18\",\n",
    "\"Lepus californicus 2 300.00 7.38\\nOchotona daurica 127.70 1.40\\nOchotona princeps 109.00 0.94\",\n",
    "\"Macropus eugenii 4796.00 7.78\\nMacropus robustus 30000.00 34.46\\nMacrotis lagotis 1477.00 2.79\\nMarmosa microtarsus 13.00 0.13\",\n",
    "\"Manis crassicaudata 15 910.00 6.99\\nManis javanica 4220.00 6.23\\nManis tricupis 2730.00 4.63\",\n",
    "\"Citellus undulatus 680.00 3.31\\nClethrionomys gapperi 23.00 0.26\\nClethrionomys glareolus 20.50 0.27\\nClethrionomys rufocanus 27.50 0.31\",\n",
    "\"eliophobius kapeti 89.00 0.44\\nHeliosciurus rufobrachium 271.00 0.90\\nHeterocephalus glaber 39.00 0.14\",\n",
    "\"Spermophilus undulatus 1000.00 4.50\\nStochomys longicaudatus 82.33 0.55\\nTachyoryctes splendens 234.00 0.92\\nTamias amoenus 57.00 0.54\\nTamias merriami 75.00 0.44\\nTamias striatus 87.40 0.51\\nTamiasciurus hudsonicus 224.00 1.41\\nTatera indica 86.80 0.43\\nThomomys bottae 143.00 0.68\\nThomomys talpoides 82.60 0.55\\nThomomys umbrinus 95.30 0.46\\nTrichomys apereoides 323.00 1.16\\nZapus hudsonicus 30.00 0.25\\nPtilocercus lowii 57.50 0.24\\nTrichechus inunguis 170.000.00 46.91\"\n",
    "]]\n",
    "manual_data = [x for xs in manual_data for x in xs]\n",
    "species = [x[0]+' '+x[1] for x in [x.split(' ')[:2] for x in manual_data]]\n",
    "mass = [(reduce(lambda a,b: a+b,x[0].split(' ')[2:]) +'.'+x[1].split(' ')[0]).replace(' ','') for x in  [x.split('.') for x in manual_data]]\n",
    "b = [x.split(' ')[-1] for x in manual_data]\n",
    "data.append([species,mass,b])"
   ]
  },
  {
   "cell_type": "code",
   "execution_count": null,
   "id": "865b6319",
   "metadata": {},
   "outputs": [],
   "source": [
    "df = pandas.concat([pandas.DataFrame(numpy.vstack(x).T,columns=['species','M(g)','B(W)']) for x in data])\n",
    "df['M(g)'] = df['M(g)'].map(lambda x: x.replace(' ','').replace(',','')).astype(float)\n",
    "df['B(W)'] = df['B(W)'].map(lambda x: x.replace(' ','').replace(',','')).astype(float)"
   ]
  },
  {
   "cell_type": "code",
   "execution_count": 187,
   "id": "aea6b3f6",
   "metadata": {},
   "outputs": [],
   "source": [
    "df.to_csv('data/metabolism_mass_mammals.csv')"
   ]
  }
 ],
 "metadata": {
  "kernelspec": {
   "display_name": "Python 3 (ipykernel)",
   "language": "python",
   "name": "python3"
  },
  "language_info": {
   "codemirror_mode": {
    "name": "ipython",
    "version": 3
   },
   "file_extension": ".py",
   "mimetype": "text/x-python",
   "name": "python",
   "nbconvert_exporter": "python",
   "pygments_lexer": "ipython3",
   "version": "3.10.12"
  }
 },
 "nbformat": 4,
 "nbformat_minor": 5
}
